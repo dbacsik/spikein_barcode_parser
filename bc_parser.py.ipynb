{
 "cells": [
  {
   "cell_type": "markdown",
   "id": "2d2fb88d",
   "metadata": {},
   "source": [
    "# bc_parser.py\n",
    "This notebook parses barcodes from Illumina sequencing data. Input is listed in [data/samplelist.csv](./data/samplelist.csv). Output is stored in the [results/](./results/) directory. For more details, see [README](./README.md)."
   ]
  },
  {
   "cell_type": "markdown",
   "id": "7f8d42f9",
   "metadata": {},
   "source": [
    "Imports"
   ]
  },
  {
   "cell_type": "code",
   "execution_count": 1,
   "id": "79f2497a",
   "metadata": {},
   "outputs": [],
   "source": [
    "from Bio import SeqIO\n",
    "import gzip\n",
    "import pandas as pd\n",
    "import regex as re"
   ]
  },
  {
   "cell_type": "markdown",
   "id": "9dbbf542",
   "metadata": {},
   "source": [
    "Visualization styles"
   ]
  },
  {
   "cell_type": "code",
   "execution_count": 2,
   "id": "c01dbd2e",
   "metadata": {},
   "outputs": [],
   "source": [
    "# Dutch-field from https://gist.github.com/afcotroneo/ca9716f755128b5e9b2ed1fe4186f4df\n",
    "palette = [\"#e60049\", \"#0bb4ff\", \"#50e991\", \"#e6d800\", \"#9b19f5\", \"#ffa300\", \"#dc0ab4\", \"#b3d4ff\", \"#00bfa0\"]"
   ]
  },
  {
   "cell_type": "markdown",
   "id": "fe35a745",
   "metadata": {},
   "source": [
    "## input data\n",
    "### Samples"
   ]
  },
  {
   "cell_type": "code",
   "execution_count": 3,
   "id": "768298c8",
   "metadata": {},
   "outputs": [
    {
     "data": {
      "text/html": [
       "<div>\n",
       "<style scoped>\n",
       "    .dataframe tbody tr th:only-of-type {\n",
       "        vertical-align: middle;\n",
       "    }\n",
       "\n",
       "    .dataframe tbody tr th {\n",
       "        vertical-align: top;\n",
       "    }\n",
       "\n",
       "    .dataframe thead th {\n",
       "        text-align: right;\n",
       "    }\n",
       "</style>\n",
       "<table border=\"1\" class=\"dataframe\">\n",
       "  <thead>\n",
       "    <tr style=\"text-align: right;\">\n",
       "      <th></th>\n",
       "      <th>sample</th>\n",
       "      <th>fastq_file</th>\n",
       "      <th>bc_len</th>\n",
       "      <th>upstream_seq</th>\n",
       "      <th>downstream_seq</th>\n",
       "    </tr>\n",
       "  </thead>\n",
       "  <tbody>\n",
       "    <tr>\n",
       "      <th>0</th>\n",
       "      <td>luketest</td>\n",
       "      <td>/Users/dbacsik/Downloads/luke_test/ZIKV_DMS_NS...</td>\n",
       "      <td>8</td>\n",
       "      <td>NaN</td>\n",
       "      <td>CCATGAATTCATTAAAGAGGAGAAAGGTACC</td>\n",
       "    </tr>\n",
       "  </tbody>\n",
       "</table>\n",
       "</div>"
      ],
      "text/plain": [
       "     sample                                         fastq_file  bc_len  \\\n",
       "0  luketest  /Users/dbacsik/Downloads/luke_test/ZIKV_DMS_NS...       8   \n",
       "\n",
       "   upstream_seq                   downstream_seq  \n",
       "0           NaN  CCATGAATTCATTAAAGAGGAGAAAGGTACC  "
      ]
     },
     "metadata": {},
     "output_type": "display_data"
    }
   ],
   "source": [
    "samplelist = './data/samplelist.csv'\n",
    "samples_df = pd.read_csv(samplelist, comment='#')\n",
    "display(samples_df)"
   ]
  },
  {
   "cell_type": "markdown",
   "id": "89f0c8ec",
   "metadata": {},
   "source": [
    "Check sample input conforms to requirements.  \n",
    "Requirements:  \n",
    "* `sample` (sample name) is unique\n",
    "* There is exactly 1 `fastq.gz` file listed in `fastq_file` column"
   ]
  },
  {
   "cell_type": "code",
   "execution_count": 4,
   "id": "a6b3d228",
   "metadata": {},
   "outputs": [],
   "source": [
    "assert samples_df['sample'].is_unique, \\\n",
    "    \"Sample names are not unique\"\n",
    "assert (samples_df['fastq_file'].str.count('.fastq.gz') == 1).all(), \\\n",
    "    \"One (1) fastq.gz file per sample required.\""
   ]
  },
  {
   "cell_type": "markdown",
   "id": "4468255c",
   "metadata": {},
   "source": [
    "### Reads"
   ]
  },
  {
   "cell_type": "code",
   "execution_count": 5,
   "id": "4b1e8bac",
   "metadata": {
    "scrolled": true
   },
   "outputs": [
    {
     "name": "stdout",
     "output_type": "stream",
     "text": [
      "Parsing barcodes for luketest from /Users/dbacsik/Downloads/luke_test/ZIKV_DMS_NS5_EvansLab/data/fastqs/Dantas_wt_AM-F0413_AM-F0314_TATCGTGAGC_GATATCACGC_S4_R1_001.fastq.gz.\n",
      "Search parameters are:\n",
      "\tBarcode length: 8\n",
      "\tUpstream sequence: not specified\n",
      "\tDownstream sequence: CCATGAATTCATTAAAGAGGAGAAAGGTACC\n"
     ]
    }
   ],
   "source": [
    "for sample, df in samples_df.iterrows():\n",
    "    print(f\"Parsing barcodes for {df['sample']} from {df['fastq_file']}.\")\n",
    "    print(\"Search parameters are:\")\n",
    "    print(f\"\\tBarcode length: {df['bc_len']}\")\n",
    "    if pd.notnull(df['upstream_seq']):\n",
    "        upstream_seq = df['upstream_seq']\n",
    "        print(f\"\\tUpstream sequence: {upstream_seq}\")\n",
    "    else:\n",
    "        print(\"\\tUpstream sequence: not specified\")\n",
    "        upstream_seq = ''\n",
    "    if pd.notnull(df['downstream_seq']):\n",
    "        downstream_seq = df['downstream_seq']\n",
    "        print(f\"\\tDownstream sequence: {downstream_seq}\")\n",
    "    else:\n",
    "        print(\"\\tDownstream sequence: not specified\")\n",
    "        downstream_seq = ''\n",
    "    "
   ]
  },
  {
   "cell_type": "code",
   "execution_count": null,
   "id": "1fca616b",
   "metadata": {},
   "outputs": [],
   "source": []
  }
 ],
 "metadata": {
  "kernelspec": {
   "display_name": "Python 3",
   "language": "python",
   "name": "python3"
  },
  "language_info": {
   "codemirror_mode": {
    "name": "ipython",
    "version": 3
   },
   "file_extension": ".py",
   "mimetype": "text/x-python",
   "name": "python",
   "nbconvert_exporter": "python",
   "pygments_lexer": "ipython3",
   "version": "3.6.7"
  }
 },
 "nbformat": 4,
 "nbformat_minor": 5
}
