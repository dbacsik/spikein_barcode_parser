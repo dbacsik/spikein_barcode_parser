{
 "cells": [
  {
   "cell_type": "markdown",
   "id": "f50b65b2",
   "metadata": {},
   "source": [
    "# bc_parser.py\n",
    "This notebook parses barcodes from Illumina sequencing data. Input is listed in [data/samplelist.csv](./data/samplelist.csv). Output is stored in the [results/](./results/) directory. For more details, see [README](./README.md)."
   ]
  },
  {
   "cell_type": "markdown",
   "id": "02164652",
   "metadata": {},
   "source": [
    "Imports"
   ]
  },
  {
   "cell_type": "code",
   "execution_count": 1,
   "id": "46894d6e",
   "metadata": {},
   "outputs": [],
   "source": [
    "import pandas as pd"
   ]
  },
  {
   "cell_type": "markdown",
   "id": "3c83c382",
   "metadata": {},
   "source": [
    "Visualization styles"
   ]
  },
  {
   "cell_type": "code",
   "execution_count": 2,
   "id": "be61da49",
   "metadata": {},
   "outputs": [],
   "source": [
    "# Dutch-field from https://gist.github.com/afcotroneo/ca9716f755128b5e9b2ed1fe4186f4df\n",
    "palette = [\"#e60049\", \"#0bb4ff\", \"#50e991\", \"#e6d800\", \"#9b19f5\", \"#ffa300\", \"#dc0ab4\", \"#b3d4ff\", \"#00bfa0\"]"
   ]
  },
  {
   "cell_type": "markdown",
   "id": "f434b1e5",
   "metadata": {},
   "source": [
    "## input data\n",
    "### Samples"
   ]
  },
  {
   "cell_type": "code",
   "execution_count": 3,
   "id": "8dca9011",
   "metadata": {},
   "outputs": [
    {
     "data": {
      "text/html": [
       "<div>\n",
       "<style scoped>\n",
       "    .dataframe tbody tr th:only-of-type {\n",
       "        vertical-align: middle;\n",
       "    }\n",
       "\n",
       "    .dataframe tbody tr th {\n",
       "        vertical-align: top;\n",
       "    }\n",
       "\n",
       "    .dataframe thead th {\n",
       "        text-align: right;\n",
       "    }\n",
       "</style>\n",
       "<table border=\"1\" class=\"dataframe\">\n",
       "  <thead>\n",
       "    <tr style=\"text-align: right;\">\n",
       "      <th></th>\n",
       "      <th>sample</th>\n",
       "      <th>fastq_file</th>\n",
       "      <th>upstream_seq</th>\n",
       "      <th>downstream_seq</th>\n",
       "    </tr>\n",
       "  </thead>\n",
       "  <tbody>\n",
       "    <tr>\n",
       "      <th>0</th>\n",
       "      <td>BC20_Perth09_bcHA_RepA_01</td>\n",
       "      <td>/Users/dbacsik/Downloads/SWGG9B_info/SWGG9B_ra...</td>\n",
       "      <td>TGCAACATCTGTATATAATGAG</td>\n",
       "      <td>tggatttcctttgccatatc</td>\n",
       "    </tr>\n",
       "    <tr>\n",
       "      <th>1</th>\n",
       "      <td>BC20_Perth09_bcHA_RepB_02</td>\n",
       "      <td>/Users/dbacsik/Downloads/SWGG9B_info/SWGG9B_ra...</td>\n",
       "      <td>TGCAACATCTGTATATAATGAG</td>\n",
       "      <td>tggatttcctttgccatatc</td>\n",
       "    </tr>\n",
       "  </tbody>\n",
       "</table>\n",
       "</div>"
      ],
      "text/plain": [
       "                      sample  \\\n",
       "0  BC20_Perth09_bcHA_RepA_01   \n",
       "1  BC20_Perth09_bcHA_RepB_02   \n",
       "\n",
       "                                          fastq_file            upstream_seq  \\\n",
       "0  /Users/dbacsik/Downloads/SWGG9B_info/SWGG9B_ra...  TGCAACATCTGTATATAATGAG   \n",
       "1  /Users/dbacsik/Downloads/SWGG9B_info/SWGG9B_ra...  TGCAACATCTGTATATAATGAG   \n",
       "\n",
       "         downstream_seq  \n",
       "0  tggatttcctttgccatatc  \n",
       "1  tggatttcctttgccatatc  "
      ]
     },
     "metadata": {},
     "output_type": "display_data"
    }
   ],
   "source": [
    "samplelist = './data/samplelist.csv'\n",
    "samples_df = pd.read_csv(samplelist, comment='#')\n",
    "display(samples_df)"
   ]
  },
  {
   "cell_type": "code",
   "execution_count": null,
   "id": "00d435cc",
   "metadata": {},
   "outputs": [],
   "source": []
  }
 ],
 "metadata": {
  "kernelspec": {
   "display_name": "Python 3",
   "language": "python",
   "name": "python3"
  },
  "language_info": {
   "codemirror_mode": {
    "name": "ipython",
    "version": 3
   },
   "file_extension": ".py",
   "mimetype": "text/x-python",
   "name": "python",
   "nbconvert_exporter": "python",
   "pygments_lexer": "ipython3",
   "version": "3.6.7"
  }
 },
 "nbformat": 4,
 "nbformat_minor": 5
}
